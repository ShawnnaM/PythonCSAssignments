{
 "cells": [
  {
   "cell_type": "markdown",
   "metadata": {},
   "source": [
    "# Exploring the Escape Velocity Equation \n",
    "## Written by SM "
   ]
  },
  {
   "cell_type": "markdown",
   "metadata": {},
   "source": [
    "This document will explain the history, purpose, and uses of the Escape Velocity eqatuon. The definition of escape velocity by NASA is \"the speed needed for an object to break away from the gravitational pull of a planet or moon\". \n",
    "### Escape Velocity Equation:  \n",
    "$$v_{esc} = \\sqrt{\\frac{2GM}{r}}$$"
   ]
  },
  {
   "cell_type": "markdown",
   "metadata": {},
   "source": [
    "---"
   ]
  },
  {
   "cell_type": "markdown",
   "metadata": {},
   "source": [
    "## Table of Contents"
   ]
  },
  {
   "cell_type": "markdown",
   "metadata": {},
   "source": [
    "1. Explaination of the variables\n",
    "\n",
    "2. Definitions \n",
    "\n",
    "3. History of the Escape Velocity equation \n",
    "    * Who found it and how?\n",
    "    \n",
    "4. Derivation of the Escape Velocity Equation\n",
    "\n",
    "5. Appications of the Escape Velocity equation    \n",
    "    * Areas of application  \n",
    " \n",
    "6. Examples and Problems \n",
    "\n",
    "7. Conclusion  "
   ]
  },
  {
   "cell_type": "markdown",
   "metadata": {},
   "source": [
    "---"
   ]
  },
  {
   "cell_type": "markdown",
   "metadata": {},
   "source": [
    "## Explaination of the variables \n",
    "\n",
    "\n",
    "There are three variables in the escape velocity equation; $G$, $M$, and $r$ that will be explained.  \n",
    "\n",
    "### The Gravitational Constant, G \n",
    "The Gravitational constant is a physical constant that was introduced by Sir Isaac Newton in his equation for the law of gravitation between two bodies. The Gravitational constant has units $\\frac{N \\cdot m^{2}}{kg^{2}}$ in scien\n",
    "\n",
    "### Mass of the body, M \n",
    "The mass of a body is the amount of matter the body contains. Mass is a fixed quantity that does not change with position or location. Not to be confused with weight which is the amount of force the Earth's centre attracts a body with. Weight can vary say on a different planet with a different gravity but your mass would stay that same. \n",
    "\n",
    "### Distance between the centre of mass of M and the object, r\n",
    "The distance between the centre or cores of objects "
   ]
  },
  {
   "cell_type": "markdown",
   "metadata": {},
   "source": [
    "---"
   ]
  },
  {
   "cell_type": "markdown",
   "metadata": {},
   "source": [
    "## Definitions \n",
    "\n",
    "**Velocity:** Velocity is the rate at which an object changes its positon with care taken with the direction of it. Not to be confused with speed which is the rate at which an object covers a distance with no direction associated with it.  \n",
    "\n",
    "**Force:**  \n",
    "\n",
    "**Gravity:** Gravity is the force of attraction between bodies that have mass.    \n",
    "  \n",
    "**Work** (needed for proof)\n",
    "\n",
    "**Orbit:** An orbit is the path an oject follows around under the influence of gravity.  "
   ]
  },
  {
   "cell_type": "markdown",
   "metadata": {},
   "source": [
    "## History of the Escape Velocity Equation \n",
    "\n",
    "Who discovered it?\n",
    "When was it discovered?\n",
    "Where? \n",
    "How?\n",
    "\n",
    "@@ DON'T FORGET IMAGES AND DIAGRAMS AND SUCH!!! EVERYWHERE YOU THINK YOU CAN@!"
   ]
  },
  {
   "cell_type": "markdown",
   "metadata": {},
   "source": [
    "---"
   ]
  },
  {
   "cell_type": "markdown",
   "metadata": {},
   "source": [
    "## Derivation of the equation two ways:\n",
    "\n",
    "#### Proof 1:\n",
    "Deriving the Escape Velocity formaula using integrals  \n",
    "EXPLAIN IN WORDS EACH STEP YOU DO!!!!!! DON'T FORGET!  \n",
    "$F = G\\frac{Mm}{r^{2}}$  \n",
    "WORDS!  \n",
    "$dW = Fdr = -G \\frac{Mm}{r^{2}}dr$  \n",
    "WORDS!  \n",
    "$W = \\int \\limits_{r_{0}}^\\infty -G \\frac{Mm}{r^{2}} \\,dr = -G \\frac{Mm}{r_{0}} = -mgr_{0}$  \n",
    "WORDS!  \n",
    "$W + K = 0 \\Leftrightarrow \\frac{1}{2}mv_{0}^{2} = G\\frac{Mm}{r_{0}}$  \n",
    "WORDS!  \n",
    "Thus resulting in,  \n",
    "$$v_{0} = v_{esc} = \\sqrt{\\frac{2GM}{r_{0}}} = \\sqrt{2gr_{0}}$$"
   ]
  },
  {
   "cell_type": "markdown",
   "metadata": {},
   "source": [
    "#### Proof 2:"
   ]
  },
  {
   "cell_type": "markdown",
   "metadata": {},
   "source": [
    "Deriving the Escape Velocity formula using energy  \n",
    "<a href=\"http://www.youtube.com/watch?feature=player_embedded&v=VGg9MOQWMnI\">\n",
    "<img src=\"http://img.youtube.com/vi/VGg9MOQWMnI/0.jpg\" \n",
    "alt=\"Derive Escape Velocity formula\" width=\"300\"\n",
    "height=\"250\" border=\"40\"></a>"
   ]
  },
  {
   "cell_type": "markdown",
   "metadata": {},
   "source": [
    "---"
   ]
  },
  {
   "cell_type": "markdown",
   "metadata": {},
   "source": [
    "## Applications of the Escape Velocity Equation \n",
    "\n",
    "\n",
    "The most important application of the escape velocity equation is used by NASA when they are calculating the speed needed to launch their manned as well as their unmanned rockets into space with. Sometimes these missions require only that the rocket gets enough speed to enter Earth's orbit and move around Earth, but sometimes these missions require that the rockets shoot past Earth's orbit in order to go further. \n",
    "AREAS WE USE IT IN HERE HERE HERE HERE\n"
   ]
  },
  {
   "cell_type": "markdown",
   "metadata": {},
   "source": [
    "---"
   ]
  },
  {
   "cell_type": "markdown",
   "metadata": {},
   "source": [
    "## Examples and Problems \n",
    " \n",
    "Example 1) Compute the escape velocity for Earth if its mass is $5.98 \\, x \\, 10^{24}\\, kg$, its radius is $6.37\\, x \\,10^{6} \\,m$, and $G = 6.67 \\,x \\,10^{-11}\\, \\frac{N\\cdot m^{2}}{kg^{2}}$. The abbreviation $\"N\"$ stands for Newton, a unit of force in the metric system. Using these constraints, the answers will be in $\\frac{m}{s}$. Where 1 $N = \\frac{kg\\cdot m}{s^{2}}$.  \n",
    "\n",
    "$$v_{esc} = \\sqrt{\\frac{2(6.67x10^{-11})(5.98x10^{24})}{6.37x10^{6}}}\\, \\frac{m}{s} = 11,190.74 \\, \\frac{m}{s} $$  \n",
    "\n",
    "\n",
    "\n",
    "Problem 1) Compute the mass of an unknown planet if its radius is $1.10 \\, x \\, 10^{9} \\, km$, an escape velocity of $3,433 \\, \\frac{m}{s}$, and with the same gravitational constant $G = 6.67 \\,x \\,10^{-11}\\, \\frac{N\\cdot m^{2}}{kg^{2}}$. Hint: Careful when dealing with the radius, what is the difference between $m$ and $km$?  \n",
    "Final answer: $9.72 \\, x\\, 10^{28}\\,kg$\n",
    "\n",
    "Problem 2) Compute the radius of an unknown planet of mass $1.90\\,x\\,10^{20}\\,kg$, an escape velocity of $2102 \\, \\frac{m}{s}$ and with the same gravitational constant $G = 6.67 \\, x \\, 10^{-11}\\, \\frac{N\\cdot m^{2}}{kg^{2}}$. Hint: Don't forget to square the escape velocity when you rearrange the equation.  \n",
    "Final answer: $5,736.46 \\, m$"
   ]
  },
  {
   "cell_type": "markdown",
   "metadata": {},
   "source": [
    "---"
   ]
  },
  {
   "cell_type": "markdown",
   "metadata": {},
   "source": [
    "## Conclusion \n",
    "\n",
    "In conclusion, the escape velocity equation has been fundamental to the progress and sucess of many of NASA's missions.  "
   ]
  }
 ],
 "metadata": {
  "kernelspec": {
   "display_name": "Python 3",
   "language": "python",
   "name": "python3"
  },
  "language_info": {
   "codemirror_mode": {
    "name": "ipython",
    "version": 3
   },
   "file_extension": ".py",
   "mimetype": "text/x-python",
   "name": "python",
   "nbconvert_exporter": "python",
   "pygments_lexer": "ipython3",
   "version": "3.5.1"
  }
 },
 "nbformat": 4,
 "nbformat_minor": 0
}
